{
  "cells": [
    {
      "cell_type": "markdown",
      "metadata": {
        "id": "view-in-github",
        "colab_type": "text"
      },
      "source": [
        "<a href=\"https://colab.research.google.com/github/everest8849top/SMS-Text-Classification/blob/main/fcc_sms_text_classification_.ipynb\" target=\"_parent\"><img src=\"https://colab.research.google.com/assets/colab-badge.svg\" alt=\"Open In Colab\"/></a>"
      ]
    },
    {
      "cell_type": "code",
      "execution_count": null,
      "metadata": {
        "id": "8RZOuS9LWQvv",
        "colab": {
          "base_uri": "https://localhost:8080/"
        },
        "outputId": "709488bd-f4d4-437a-aeda-2122ea312369"
      },
      "outputs": [
        {
          "output_type": "stream",
          "name": "stdout",
          "text": [
            "Requirement already satisfied: tf-nightly in /usr/local/lib/python3.10/dist-packages (2.16.0.dev20231013)\n",
            "Requirement already satisfied: absl-py>=1.0.0 in /usr/local/lib/python3.10/dist-packages (from tf-nightly) (1.4.0)\n",
            "Requirement already satisfied: astunparse>=1.6.0 in /usr/local/lib/python3.10/dist-packages (from tf-nightly) (1.6.3)\n",
            "Requirement already satisfied: flatbuffers>=23.5.26 in /usr/local/lib/python3.10/dist-packages (from tf-nightly) (23.5.26)\n",
            "Requirement already satisfied: gast!=0.5.0,!=0.5.1,!=0.5.2,>=0.2.1 in /usr/local/lib/python3.10/dist-packages (from tf-nightly) (0.4.0)\n",
            "Requirement already satisfied: google-pasta>=0.1.1 in /usr/local/lib/python3.10/dist-packages (from tf-nightly) (0.2.0)\n",
            "Requirement already satisfied: h5py>=2.9.0 in /usr/local/lib/python3.10/dist-packages (from tf-nightly) (3.9.0)\n",
            "Requirement already satisfied: libclang>=13.0.0 in /usr/local/lib/python3.10/dist-packages (from tf-nightly) (16.0.6)\n",
            "Requirement already satisfied: ml-dtypes~=0.2.0 in /usr/local/lib/python3.10/dist-packages (from tf-nightly) (0.2.0)\n",
            "Requirement already satisfied: numpy>=1.23.5 in /usr/local/lib/python3.10/dist-packages (from tf-nightly) (1.23.5)\n",
            "Requirement already satisfied: opt-einsum>=2.3.2 in /usr/local/lib/python3.10/dist-packages (from tf-nightly) (3.3.0)\n",
            "Requirement already satisfied: packaging in /usr/local/lib/python3.10/dist-packages (from tf-nightly) (23.2)\n",
            "Requirement already satisfied: protobuf!=4.21.0,!=4.21.1,!=4.21.2,!=4.21.3,!=4.21.4,!=4.21.5,<5.0.0dev,>=3.20.3 in /usr/local/lib/python3.10/dist-packages (from tf-nightly) (3.20.3)\n",
            "Requirement already satisfied: setuptools in /usr/local/lib/python3.10/dist-packages (from tf-nightly) (67.7.2)\n",
            "Requirement already satisfied: six>=1.12.0 in /usr/local/lib/python3.10/dist-packages (from tf-nightly) (1.16.0)\n",
            "Requirement already satisfied: termcolor>=1.1.0 in /usr/local/lib/python3.10/dist-packages (from tf-nightly) (2.3.0)\n",
            "Requirement already satisfied: typing-extensions>=3.6.6 in /usr/local/lib/python3.10/dist-packages (from tf-nightly) (4.5.0)\n",
            "Requirement already satisfied: wrapt<1.15,>=1.11.0 in /usr/local/lib/python3.10/dist-packages (from tf-nightly) (1.14.1)\n",
            "Requirement already satisfied: tensorflow-io-gcs-filesystem>=0.23.1 in /usr/local/lib/python3.10/dist-packages (from tf-nightly) (0.34.0)\n",
            "Requirement already satisfied: grpcio<2.0,>=1.24.3 in /usr/local/lib/python3.10/dist-packages (from tf-nightly) (1.59.0)\n",
            "Requirement already satisfied: tb-nightly~=2.15.0.a in /usr/local/lib/python3.10/dist-packages (from tf-nightly) (2.15.0a20231016)\n",
            "Requirement already satisfied: tf-estimator-nightly~=2.14.0.dev in /usr/local/lib/python3.10/dist-packages (from tf-nightly) (2.14.0.dev2023080308)\n",
            "Requirement already satisfied: keras-nightly~=2.15.0.dev in /usr/local/lib/python3.10/dist-packages (from tf-nightly) (2.15.0.dev2023092207)\n",
            "Requirement already satisfied: wheel<1.0,>=0.23.0 in /usr/local/lib/python3.10/dist-packages (from astunparse>=1.6.0->tf-nightly) (0.41.2)\n",
            "Requirement already satisfied: google-auth<3,>=1.6.3 in /usr/local/lib/python3.10/dist-packages (from tb-nightly~=2.15.0.a->tf-nightly) (2.17.3)\n",
            "Requirement already satisfied: google-auth-oauthlib<2,>=0.5 in /usr/local/lib/python3.10/dist-packages (from tb-nightly~=2.15.0.a->tf-nightly) (1.1.0)\n",
            "Requirement already satisfied: markdown>=2.6.8 in /usr/local/lib/python3.10/dist-packages (from tb-nightly~=2.15.0.a->tf-nightly) (3.5)\n",
            "Requirement already satisfied: requests<3,>=2.21.0 in /usr/local/lib/python3.10/dist-packages (from tb-nightly~=2.15.0.a->tf-nightly) (2.31.0)\n",
            "Requirement already satisfied: tensorboard-data-server<0.8.0,>=0.7.0 in /usr/local/lib/python3.10/dist-packages (from tb-nightly~=2.15.0.a->tf-nightly) (0.7.1)\n",
            "Requirement already satisfied: werkzeug>=1.0.1 in /usr/local/lib/python3.10/dist-packages (from tb-nightly~=2.15.0.a->tf-nightly) (3.0.0)\n",
            "Requirement already satisfied: cachetools<6.0,>=2.0.0 in /usr/local/lib/python3.10/dist-packages (from google-auth<3,>=1.6.3->tb-nightly~=2.15.0.a->tf-nightly) (5.3.1)\n",
            "Requirement already satisfied: pyasn1-modules>=0.2.1 in /usr/local/lib/python3.10/dist-packages (from google-auth<3,>=1.6.3->tb-nightly~=2.15.0.a->tf-nightly) (0.3.0)\n",
            "Requirement already satisfied: rsa<5,>=3.1.4 in /usr/local/lib/python3.10/dist-packages (from google-auth<3,>=1.6.3->tb-nightly~=2.15.0.a->tf-nightly) (4.9)\n",
            "Requirement already satisfied: requests-oauthlib>=0.7.0 in /usr/local/lib/python3.10/dist-packages (from google-auth-oauthlib<2,>=0.5->tb-nightly~=2.15.0.a->tf-nightly) (1.3.1)\n",
            "Requirement already satisfied: charset-normalizer<4,>=2 in /usr/local/lib/python3.10/dist-packages (from requests<3,>=2.21.0->tb-nightly~=2.15.0.a->tf-nightly) (3.3.0)\n",
            "Requirement already satisfied: idna<4,>=2.5 in /usr/local/lib/python3.10/dist-packages (from requests<3,>=2.21.0->tb-nightly~=2.15.0.a->tf-nightly) (3.4)\n",
            "Requirement already satisfied: urllib3<3,>=1.21.1 in /usr/local/lib/python3.10/dist-packages (from requests<3,>=2.21.0->tb-nightly~=2.15.0.a->tf-nightly) (2.0.6)\n",
            "Requirement already satisfied: certifi>=2017.4.17 in /usr/local/lib/python3.10/dist-packages (from requests<3,>=2.21.0->tb-nightly~=2.15.0.a->tf-nightly) (2023.7.22)\n",
            "Requirement already satisfied: MarkupSafe>=2.1.1 in /usr/local/lib/python3.10/dist-packages (from werkzeug>=1.0.1->tb-nightly~=2.15.0.a->tf-nightly) (2.1.3)\n",
            "Requirement already satisfied: pyasn1<0.6.0,>=0.4.6 in /usr/local/lib/python3.10/dist-packages (from pyasn1-modules>=0.2.1->google-auth<3,>=1.6.3->tb-nightly~=2.15.0.a->tf-nightly) (0.5.0)\n",
            "Requirement already satisfied: oauthlib>=3.0.0 in /usr/local/lib/python3.10/dist-packages (from requests-oauthlib>=0.7.0->google-auth-oauthlib<2,>=0.5->tb-nightly~=2.15.0.a->tf-nightly) (3.2.2)\n",
            "Requirement already satisfied: tensorflow-datasets in /usr/local/lib/python3.10/dist-packages (4.9.3)\n",
            "Requirement already satisfied: absl-py in /usr/local/lib/python3.10/dist-packages (from tensorflow-datasets) (1.4.0)\n",
            "Requirement already satisfied: array-record in /usr/local/lib/python3.10/dist-packages (from tensorflow-datasets) (0.4.1)\n",
            "Requirement already satisfied: click in /usr/local/lib/python3.10/dist-packages (from tensorflow-datasets) (8.1.7)\n",
            "Requirement already satisfied: dm-tree in /usr/local/lib/python3.10/dist-packages (from tensorflow-datasets) (0.1.8)\n",
            "Requirement already satisfied: etils[enp,epath,etree]>=0.9.0 in /usr/local/lib/python3.10/dist-packages (from tensorflow-datasets) (1.5.0)\n",
            "Requirement already satisfied: numpy in /usr/local/lib/python3.10/dist-packages (from tensorflow-datasets) (1.23.5)\n",
            "Requirement already satisfied: promise in /usr/local/lib/python3.10/dist-packages (from tensorflow-datasets) (2.3)\n",
            "Requirement already satisfied: protobuf>=3.20 in /usr/local/lib/python3.10/dist-packages (from tensorflow-datasets) (3.20.3)\n",
            "Requirement already satisfied: psutil in /usr/local/lib/python3.10/dist-packages (from tensorflow-datasets) (5.9.5)\n",
            "Requirement already satisfied: requests>=2.19.0 in /usr/local/lib/python3.10/dist-packages (from tensorflow-datasets) (2.31.0)\n",
            "Requirement already satisfied: tensorflow-metadata in /usr/local/lib/python3.10/dist-packages (from tensorflow-datasets) (1.14.0)\n",
            "Requirement already satisfied: termcolor in /usr/local/lib/python3.10/dist-packages (from tensorflow-datasets) (2.3.0)\n",
            "Requirement already satisfied: toml in /usr/local/lib/python3.10/dist-packages (from tensorflow-datasets) (0.10.2)\n",
            "Requirement already satisfied: tqdm in /usr/local/lib/python3.10/dist-packages (from tensorflow-datasets) (4.66.1)\n",
            "Requirement already satisfied: wrapt in /usr/local/lib/python3.10/dist-packages (from tensorflow-datasets) (1.14.1)\n",
            "Requirement already satisfied: fsspec in /usr/local/lib/python3.10/dist-packages (from etils[enp,epath,etree]>=0.9.0->tensorflow-datasets) (2023.6.0)\n",
            "Requirement already satisfied: importlib_resources in /usr/local/lib/python3.10/dist-packages (from etils[enp,epath,etree]>=0.9.0->tensorflow-datasets) (6.1.0)\n",
            "Requirement already satisfied: typing_extensions in /usr/local/lib/python3.10/dist-packages (from etils[enp,epath,etree]>=0.9.0->tensorflow-datasets) (4.5.0)\n",
            "Requirement already satisfied: zipp in /usr/local/lib/python3.10/dist-packages (from etils[enp,epath,etree]>=0.9.0->tensorflow-datasets) (3.17.0)\n",
            "Requirement already satisfied: charset-normalizer<4,>=2 in /usr/local/lib/python3.10/dist-packages (from requests>=2.19.0->tensorflow-datasets) (3.3.0)\n",
            "Requirement already satisfied: idna<4,>=2.5 in /usr/local/lib/python3.10/dist-packages (from requests>=2.19.0->tensorflow-datasets) (3.4)\n",
            "Requirement already satisfied: urllib3<3,>=1.21.1 in /usr/local/lib/python3.10/dist-packages (from requests>=2.19.0->tensorflow-datasets) (2.0.6)\n",
            "Requirement already satisfied: certifi>=2017.4.17 in /usr/local/lib/python3.10/dist-packages (from requests>=2.19.0->tensorflow-datasets) (2023.7.22)\n",
            "Requirement already satisfied: six in /usr/local/lib/python3.10/dist-packages (from promise->tensorflow-datasets) (1.16.0)\n",
            "Requirement already satisfied: googleapis-common-protos<2,>=1.52.0 in /usr/local/lib/python3.10/dist-packages (from tensorflow-metadata->tensorflow-datasets) (1.60.0)\n",
            "2.16.0-dev20231013\n"
          ]
        }
      ],
      "source": [
        "# import libraries\n",
        "try:\n",
        "  # %tensorflow_version only exists in Colab.\n",
        "  !pip install tf-nightly\n",
        "except Exception:\n",
        "  pass\n",
        "import tensorflow as tf\n",
        "import pandas as pd\n",
        "from tensorflow import keras\n",
        "!pip install tensorflow-datasets\n",
        "import tensorflow_datasets as tfds\n",
        "import numpy as np\n",
        "import matplotlib.pyplot as plt\n",
        "\n",
        "print(tf.__version__)"
      ]
    },
    {
      "cell_type": "code",
      "execution_count": null,
      "metadata": {
        "id": "lMHwYXHXCar3",
        "colab": {
          "base_uri": "https://localhost:8080/"
        },
        "outputId": "c79b8695-b64c-43e2-d3e3-6cf44517a552"
      },
      "outputs": [
        {
          "output_type": "stream",
          "name": "stdout",
          "text": [
            "--2023-10-16 17:39:49--  https://cdn.freecodecamp.org/project-data/sms/train-data.tsv\n",
            "Resolving cdn.freecodecamp.org (cdn.freecodecamp.org)... 104.26.3.33, 172.67.70.149, 104.26.2.33, ...\n",
            "Connecting to cdn.freecodecamp.org (cdn.freecodecamp.org)|104.26.3.33|:443... connected.\n",
            "HTTP request sent, awaiting response... 200 OK\n",
            "Length: 358233 (350K) [text/tab-separated-values]\n",
            "Saving to: ‘train-data.tsv.1’\n",
            "\n",
            "train-data.tsv.1    100%[===================>] 349.84K  --.-KB/s    in 0.03s   \n",
            "\n",
            "2023-10-16 17:39:49 (10.5 MB/s) - ‘train-data.tsv.1’ saved [358233/358233]\n",
            "\n",
            "--2023-10-16 17:39:49--  https://cdn.freecodecamp.org/project-data/sms/valid-data.tsv\n",
            "Resolving cdn.freecodecamp.org (cdn.freecodecamp.org)... 104.26.3.33, 172.67.70.149, 104.26.2.33, ...\n",
            "Connecting to cdn.freecodecamp.org (cdn.freecodecamp.org)|104.26.3.33|:443... connected.\n",
            "HTTP request sent, awaiting response... 200 OK\n",
            "Length: 118774 (116K) [text/tab-separated-values]\n",
            "Saving to: ‘valid-data.tsv.1’\n",
            "\n",
            "valid-data.tsv.1    100%[===================>] 115.99K  --.-KB/s    in 0.02s   \n",
            "\n",
            "2023-10-16 17:39:49 (4.98 MB/s) - ‘valid-data.tsv.1’ saved [118774/118774]\n",
            "\n"
          ]
        }
      ],
      "source": [
        "# get data files\n",
        "!wget https://cdn.freecodecamp.org/project-data/sms/train-data.tsv\n",
        "!wget https://cdn.freecodecamp.org/project-data/sms/valid-data.tsv\n",
        "\n",
        "train_file_path = \"train-data.tsv\"\n",
        "test_file_path = \"valid-data.tsv\""
      ]
    },
    {
      "cell_type": "code",
      "execution_count": null,
      "metadata": {
        "id": "g_h508FEClxO"
      },
      "outputs": [],
      "source": [
        "train_set = pd.read_csv(train_file_path, sep = '\\t', names = [\"class\", \"message\"])\n",
        "test_set = pd.read_csv(test_file_path, sep='\\t', names=[\"class\", \"message\"])"
      ]
    },
    {
      "cell_type": "code",
      "source": [
        "train_message = train_set[\"message\"].values.tolist()\n",
        "train_label = np.array([0 if x==\"ham\" else 1 for x in train_set['class'].values.tolist()])\n",
        "test_message = test_set[\"message\"].values.tolist()\n",
        "test_label = np.array([0 if x==\"ham\" else 1 for x in test_set['class'].values.tolist()])"
      ],
      "metadata": {
        "id": "AlyZRXMKhq1b"
      },
      "execution_count": null,
      "outputs": []
    },
    {
      "cell_type": "code",
      "source": [
        "vocabulary_dict = {}\n",
        "for messgae in train_message:\n",
        "  for vocabulary in messgae.split():\n",
        "    if vocabulary not in vocabulary_dict:\n",
        "      vocabulary_dict[vocabulary] = 1\n",
        "    else:\n",
        "      vocabulary_dict[vocabulary] += 1"
      ],
      "metadata": {
        "id": "CZDxsTaSh2Zj"
      },
      "execution_count": null,
      "outputs": []
    },
    {
      "cell_type": "code",
      "source": [
        "VOCAB_SIZE = len(vocabulary_dict)\n",
        "MAX_LENGTH = len(max(train_message, key=lambda p: len(p.split())).split())"
      ],
      "metadata": {
        "id": "igaRg9mdh9pE"
      },
      "execution_count": null,
      "outputs": []
    },
    {
      "cell_type": "code",
      "source": [
        "from tf.keras.preprocessing.text import one_hot\n",
        "from tf.keras.preprocessing.sequence import pad_sequences\n",
        "\n",
        "encoded_train_message = [one_hot(d, VOCAB_SIZE) for d in train_message]\n",
        "padded_train_message = pad_sequences(encoded_train_message, maxlen=MAX_LENGTH, padding='post')\n",
        "encoded_test_message = [one_hot(d, VOCAB_SIZE) for d in test_message]\n",
        "padded_test_message = pad_sequences(encoded_test_message, maxlen=MAX_LENGTH, padding='post')"
      ],
      "metadata": {
        "id": "sQm0QeWIh9gi"
      },
      "execution_count": null,
      "outputs": []
    },
    {
      "cell_type": "code",
      "execution_count": null,
      "metadata": {
        "id": "zOMKywn4zReN",
        "colab": {
          "base_uri": "https://localhost:8080/"
        },
        "outputId": "4ec47de2-56e3-4a5c-8e52-742eedfc7dc1"
      },
      "outputs": [
        {
          "output_type": "stream",
          "name": "stdout",
          "text": [
            "Epoch 1/1000\n",
            "131/131 - 12s - loss: 0.1669 - accuracy: 0.9390 - val_loss: 0.0755 - val_accuracy: 0.9756 - 12s/epoch - 88ms/step\n",
            "Epoch 2/1000\n",
            "131/131 - 15s - loss: 0.0308 - accuracy: 0.9902 - val_loss: 0.0412 - val_accuracy: 0.9849 - 15s/epoch - 115ms/step\n",
            "Epoch 3/1000\n",
            "131/131 - 11s - loss: 0.0085 - accuracy: 0.9983 - val_loss: 0.0363 - val_accuracy: 0.9878 - 11s/epoch - 82ms/step\n",
            "Epoch 4/1000\n",
            "131/131 - 6s - loss: 0.0034 - accuracy: 0.9998 - val_loss: 0.0396 - val_accuracy: 0.9864 - 6s/epoch - 45ms/step\n",
            "Epoch 5/1000\n",
            "131/131 - 10s - loss: 0.0020 - accuracy: 0.9998 - val_loss: 0.0369 - val_accuracy: 0.9871 - 10s/epoch - 74ms/step\n",
            "Epoch 6/1000\n",
            "131/131 - 7s - loss: 0.0014 - accuracy: 0.9998 - val_loss: 0.0487 - val_accuracy: 0.9864 - 7s/epoch - 53ms/step\n",
            "Epoch 7/1000\n",
            "131/131 - 9s - loss: 6.9382e-04 - accuracy: 0.9998 - val_loss: 0.0425 - val_accuracy: 0.9871 - 9s/epoch - 67ms/step\n",
            "Epoch 8/1000\n",
            "131/131 - 7s - loss: 3.0501e-04 - accuracy: 1.0000 - val_loss: 0.0443 - val_accuracy: 0.9864 - 7s/epoch - 54ms/step\n",
            "Epoch 9/1000\n",
            "131/131 - 7s - loss: 2.2659e-04 - accuracy: 1.0000 - val_loss: 0.0444 - val_accuracy: 0.9871 - 7s/epoch - 52ms/step\n",
            "Epoch 10/1000\n",
            "131/131 - 9s - loss: 1.5453e-04 - accuracy: 1.0000 - val_loss: 0.0456 - val_accuracy: 0.9864 - 9s/epoch - 71ms/step\n",
            "Epoch 11/1000\n",
            "131/131 - 6s - loss: 1.2281e-04 - accuracy: 1.0000 - val_loss: 0.0465 - val_accuracy: 0.9871 - 6s/epoch - 46ms/step\n",
            "Epoch 12/1000\n",
            "131/131 - 7s - loss: 9.4452e-05 - accuracy: 1.0000 - val_loss: 0.0438 - val_accuracy: 0.9871 - 7s/epoch - 54ms/step\n",
            "Epoch 13/1000\n",
            "131/131 - 8s - loss: 7.6451e-05 - accuracy: 1.0000 - val_loss: 0.0473 - val_accuracy: 0.9864 - 8s/epoch - 59ms/step\n",
            "Epoch 14/1000\n",
            "131/131 - 11s - loss: 6.5631e-05 - accuracy: 1.0000 - val_loss: 0.0478 - val_accuracy: 0.9864 - 11s/epoch - 81ms/step\n",
            "Epoch 15/1000\n",
            "131/131 - 9s - loss: 5.4586e-05 - accuracy: 1.0000 - val_loss: 0.0473 - val_accuracy: 0.9871 - 9s/epoch - 69ms/step\n",
            "Epoch 16/1000\n",
            "131/131 - 7s - loss: 4.7018e-05 - accuracy: 1.0000 - val_loss: 0.0471 - val_accuracy: 0.9871 - 7s/epoch - 52ms/step\n",
            "Epoch 17/1000\n",
            "131/131 - 8s - loss: 4.0962e-05 - accuracy: 1.0000 - val_loss: 0.0485 - val_accuracy: 0.9871 - 8s/epoch - 59ms/step\n",
            "Epoch 18/1000\n",
            "131/131 - 6s - loss: 3.5030e-05 - accuracy: 1.0000 - val_loss: 0.0501 - val_accuracy: 0.9864 - 6s/epoch - 49ms/step\n",
            "Epoch 19/1000\n",
            "131/131 - 8s - loss: 3.0252e-05 - accuracy: 1.0000 - val_loss: 0.0505 - val_accuracy: 0.9864 - 8s/epoch - 57ms/step\n",
            "Epoch 20/1000\n",
            "131/131 - 8s - loss: 2.6433e-05 - accuracy: 1.0000 - val_loss: 0.0501 - val_accuracy: 0.9871 - 8s/epoch - 64ms/step\n",
            "Epoch 21/1000\n",
            "131/131 - 7s - loss: 2.3420e-05 - accuracy: 1.0000 - val_loss: 0.0514 - val_accuracy: 0.9864 - 7s/epoch - 51ms/step\n",
            "Epoch 22/1000\n",
            "131/131 - 8s - loss: 2.0891e-05 - accuracy: 1.0000 - val_loss: 0.0516 - val_accuracy: 0.9864 - 8s/epoch - 64ms/step\n",
            "Epoch 23/1000\n",
            "131/131 - 6s - loss: 1.8354e-05 - accuracy: 1.0000 - val_loss: 0.0528 - val_accuracy: 0.9864 - 6s/epoch - 43ms/step\n",
            "Epoch 24/1000\n",
            "131/131 - 7s - loss: 1.6439e-05 - accuracy: 1.0000 - val_loss: 0.0524 - val_accuracy: 0.9864 - 7s/epoch - 52ms/step\n",
            "Epoch 25/1000\n",
            "131/131 - 7s - loss: 1.4772e-05 - accuracy: 1.0000 - val_loss: 0.0525 - val_accuracy: 0.9871 - 7s/epoch - 56ms/step\n",
            "Epoch 26/1000\n",
            "131/131 - 6s - loss: 1.3150e-05 - accuracy: 1.0000 - val_loss: 0.0540 - val_accuracy: 0.9864 - 6s/epoch - 49ms/step\n",
            "Epoch 27/1000\n",
            "131/131 - 9s - loss: 1.1921e-05 - accuracy: 1.0000 - val_loss: 0.0537 - val_accuracy: 0.9864 - 9s/epoch - 65ms/step\n",
            "Epoch 28/1000\n",
            "Restoring model weights from the end of the best epoch: 3.\n",
            "131/131 - 7s - loss: 1.0661e-05 - accuracy: 1.0000 - val_loss: 0.0553 - val_accuracy: 0.9856 - 7s/epoch - 57ms/step\n",
            "Epoch 28: early stopping\n"
          ]
        },
        {
          "output_type": "execute_result",
          "data": {
            "text/plain": [
              "<keras.src.callbacks.History at 0x7e4739b241f0>"
            ]
          },
          "metadata": {},
          "execution_count": 35
        }
      ],
      "source": [
        "model = keras.Sequential([\n",
        "    keras.layers.Embedding(VOCAB_SIZE, 100, input_length=MAX_LENGTH),\n",
        "    keras.layers.Flatten(),\n",
        "    keras.layers.Dense(128, activation='relu'),\n",
        "    keras.layers.Dense(1, activation='sigmoid')\n",
        "])\n",
        "model.compile(optimizer='adam', loss='binary_crossentropy', metrics=['accuracy'])\n",
        "\n",
        "from tf.keras.callbacks import EarlyStopping\n",
        "monitor = EarlyStopping(monitor='val_accuracy', min_delta=1e-4, patience=25, verbose=1, mode='max', restore_best_weights=True)\n",
        "\n",
        "model.fit(padded_train_message, train_label, validation_data=(padded_test_message, test_label), callbacks=[monitor], epochs=1000, verbose=2)\n"
      ]
    },
    {
      "cell_type": "code",
      "execution_count": null,
      "metadata": {
        "id": "J9tD9yACG6M9",
        "colab": {
          "base_uri": "https://localhost:8080/"
        },
        "outputId": "2977a75e-2b8d-4747-a4c5-c65013eb537b"
      },
      "outputs": [
        {
          "output_type": "stream",
          "name": "stdout",
          "text": [
            "1/1 [==============================] - 0s 77ms/step\n",
            "1/1 [==============================] - 0s 27ms/step\n",
            "[0.0009374482, 'ham']\n",
            "[0.0009374482, 'ham']\n"
          ]
        }
      ],
      "source": [
        "# function to predict messages based on model\n",
        "# (should return list containing prediction and label, ex. [0.008318834938108921, 'ham'])\n",
        "def predict_message(pred_text):\n",
        "  class_dict = {\n",
        "      0 : \"ham\",\n",
        "      1 : \"spam\",\n",
        "      }\n",
        "  encoded_message = [one_hot(pred_text, VOCAB_SIZE)]\n",
        "  padded_message = pad_sequences(encoded_message, maxlen=MAX_LENGTH, padding='post')\n",
        "  prediction = [model.predict(padded_message)[0][0], class_dict[np.round(model.predict(padded_message)[0][0])]]\n",
        "  print(prediction)\n",
        "  return prediction\n",
        "\n",
        "pred_text = \"how are you doing today?\"\n",
        "\n",
        "prediction = predict_message(pred_text)\n",
        "print(prediction)"
      ]
    },
    {
      "cell_type": "code",
      "execution_count": null,
      "metadata": {
        "id": "Dxotov85SjsC",
        "colab": {
          "base_uri": "https://localhost:8080/"
        },
        "outputId": "483ba79e-f9c6-48f3-d5b6-86e2817ad731"
      },
      "outputs": [
        {
          "output_type": "stream",
          "name": "stdout",
          "text": [
            "1/1 [==============================] - 0s 28ms/step\n",
            "1/1 [==============================] - 0s 45ms/step\n",
            "[0.0009374482, 'ham']\n",
            "1/1 [==============================] - 0s 28ms/step\n",
            "1/1 [==============================] - 0s 29ms/step\n",
            "[0.5189217, 'spam']\n",
            "1/1 [==============================] - 0s 25ms/step\n",
            "1/1 [==============================] - 0s 30ms/step\n",
            "[6.260659e-05, 'ham']\n",
            "1/1 [==============================] - 0s 22ms/step\n",
            "1/1 [==============================] - 0s 22ms/step\n",
            "[0.99578273, 'spam']\n",
            "1/1 [==============================] - 0s 28ms/step\n",
            "1/1 [==============================] - 0s 23ms/step\n",
            "[0.98986423, 'spam']\n",
            "1/1 [==============================] - 0s 45ms/step\n",
            "1/1 [==============================] - 0s 22ms/step\n",
            "[0.00028447591, 'ham']\n",
            "1/1 [==============================] - 0s 22ms/step\n",
            "1/1 [==============================] - 0s 26ms/step\n",
            "[0.0029728862, 'ham']\n",
            "You passed the challenge. Great job!\n"
          ]
        }
      ],
      "source": [
        "# Run this cell to test your function and model. Do not modify contents.\n",
        "def test_predictions():\n",
        "  test_messages = [\"how are you doing today\",\n",
        "                   \"sale today! to stop texts call 98912460324\",\n",
        "                   \"i dont want to go. can we try it a different day? available sat\",\n",
        "                   \"our new mobile video service is live. just install on your phone to start watching.\",\n",
        "                   \"you have won £1000 cash! call to claim your prize.\",\n",
        "                   \"i'll bring it tomorrow. don't forget the milk.\",\n",
        "                   \"wow, is your arm alright. that happened to me one time too\"\n",
        "                  ]\n",
        "\n",
        "  test_answers = [\"ham\", \"spam\", \"ham\", \"spam\", \"spam\", \"ham\", \"ham\"]\n",
        "  passed = True\n",
        "\n",
        "  for msg, ans in zip(test_messages, test_answers):\n",
        "    prediction = predict_message(msg)\n",
        "    if prediction[1] != ans:\n",
        "      passed = False\n",
        "\n",
        "  if passed:\n",
        "    print(\"You passed the challenge. Great job!\")\n",
        "  else:\n",
        "    print(\"You haven't passed yet. Keep trying.\")\n",
        "\n",
        "test_predictions()\n"
      ]
    },
    {
      "cell_type": "code",
      "source": [],
      "metadata": {
        "id": "hrprIdW3kOMC"
      },
      "execution_count": null,
      "outputs": []
    }
  ],
  "metadata": {
    "colab": {
      "provenance": [],
      "include_colab_link": true
    },
    "kernelspec": {
      "display_name": "Python 3",
      "name": "python3"
    },
    "language_info": {},
    "accelerator": "TPU"
  },
  "nbformat": 4,
  "nbformat_minor": 0
}